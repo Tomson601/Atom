{
 "cells": [
  {
   "cell_type": "code",
   "execution_count": 50,
   "id": "a4e611b2-64eb-4c01-8c46-8ff471d6dd99",
   "metadata": {},
   "outputs": [
    {
     "name": "stdout",
     "output_type": "stream",
     "text": [
      "2.0.1+cu117\n"
     ]
    }
   ],
   "source": [
    "import torch\n",
    "import pandas as pd\n",
    "import numpy as np\n",
    "import matplotlib.pyplot as plt\n",
    "\n",
    "print(torch.__version__)\n"
   ]
  },
  {
   "cell_type": "code",
   "execution_count": 51,
   "id": "2ee278ff",
   "metadata": {},
   "outputs": [
    {
     "data": {
      "text/plain": [
       "tensor(7)"
      ]
     },
     "execution_count": 51,
     "metadata": {},
     "output_type": "execute_result"
    }
   ],
   "source": [
    "# scalar\n",
    "scalar = torch.tensor(7)\n",
    "scalar"
   ]
  },
  {
   "cell_type": "code",
   "execution_count": 52,
   "id": "333e29d8",
   "metadata": {},
   "outputs": [
    {
     "data": {
      "text/plain": [
       "0"
      ]
     },
     "execution_count": 52,
     "metadata": {},
     "output_type": "execute_result"
    }
   ],
   "source": [
    "# how many dimensions\n",
    "scalar.ndim"
   ]
  },
  {
   "cell_type": "code",
   "execution_count": 53,
   "id": "ecdc0fb9-0bb4-42df-bcac-fb00f4edef8d",
   "metadata": {},
   "outputs": [
    {
     "data": {
      "text/plain": [
       "7"
      ]
     },
     "execution_count": 53,
     "metadata": {},
     "output_type": "execute_result"
    }
   ],
   "source": [
    "# get python int\n",
    "scalar.item()"
   ]
  },
  {
   "cell_type": "code",
   "execution_count": 54,
   "id": "af9228b0-77e3-41a4-891c-37327b8f4c16",
   "metadata": {},
   "outputs": [
    {
     "data": {
      "text/plain": [
       "tensor([7, 2])"
      ]
     },
     "execution_count": 54,
     "metadata": {},
     "output_type": "execute_result"
    }
   ],
   "source": [
    "# vector\n",
    "vector = torch.tensor([7, 2])\n",
    "vector"
   ]
  },
  {
   "cell_type": "code",
   "execution_count": 55,
   "id": "2d6ead53-3edb-4956-9e08-90db5935fb8e",
   "metadata": {},
   "outputs": [
    {
     "data": {
      "text/plain": [
       "1"
      ]
     },
     "execution_count": 55,
     "metadata": {},
     "output_type": "execute_result"
    }
   ],
   "source": [
    "vector.ndim"
   ]
  },
  {
   "cell_type": "code",
   "execution_count": 56,
   "id": "ccf60f27-5685-4c27-9d1c-fb85a983947d",
   "metadata": {},
   "outputs": [
    {
     "data": {
      "text/plain": [
       "torch.Size([2])"
      ]
     },
     "execution_count": 56,
     "metadata": {},
     "output_type": "execute_result"
    }
   ],
   "source": [
    "vector.shape"
   ]
  },
  {
   "cell_type": "code",
   "execution_count": 57,
   "id": "45fbfe43-beef-4c4e-9d5b-296f244d716d",
   "metadata": {},
   "outputs": [
    {
     "data": {
      "text/plain": [
       "tensor([[1, 3],\n",
       "        [5, 3]])"
      ]
     },
     "execution_count": 57,
     "metadata": {},
     "output_type": "execute_result"
    }
   ],
   "source": [
    "# matrix\n",
    "matrix = torch.tensor([[1, 3],\n",
    "                       [5, 3]])\n",
    "matrix"
   ]
  },
  {
   "cell_type": "code",
   "execution_count": 58,
   "id": "88f726ab-6fb8-41a6-98c4-60c184ca6acf",
   "metadata": {},
   "outputs": [
    {
     "data": {
      "text/plain": [
       "2"
      ]
     },
     "execution_count": 58,
     "metadata": {},
     "output_type": "execute_result"
    }
   ],
   "source": [
    "matrix.ndim"
   ]
  },
  {
   "cell_type": "code",
   "execution_count": 59,
   "id": "3ae10255-2d90-455e-b9cf-ce639159a61b",
   "metadata": {},
   "outputs": [
    {
     "data": {
      "text/plain": [
       "tensor([5, 3])"
      ]
     },
     "execution_count": 59,
     "metadata": {},
     "output_type": "execute_result"
    }
   ],
   "source": [
    "matrix[1]"
   ]
  },
  {
   "cell_type": "code",
   "execution_count": 60,
   "id": "38f3d4a1-f39d-4459-95c8-a99fdd241c97",
   "metadata": {},
   "outputs": [
    {
     "data": {
      "text/plain": [
       "tensor([1, 3])"
      ]
     },
     "execution_count": 60,
     "metadata": {},
     "output_type": "execute_result"
    }
   ],
   "source": [
    "matrix[0]"
   ]
  },
  {
   "cell_type": "code",
   "execution_count": 61,
   "id": "06a0bc66-1c4a-4445-8974-f1b76be8c86d",
   "metadata": {},
   "outputs": [
    {
     "data": {
      "text/plain": [
       "torch.Size([2, 2])"
      ]
     },
     "execution_count": 61,
     "metadata": {},
     "output_type": "execute_result"
    }
   ],
   "source": [
    "matrix.size()"
   ]
  },
  {
   "cell_type": "code",
   "execution_count": 62,
   "id": "2e6e0d2b-808b-4d22-9b3c-464bf2cc7a4b",
   "metadata": {},
   "outputs": [],
   "source": [
    "#########################################################################"
   ]
  },
  {
   "cell_type": "code",
   "execution_count": 63,
   "id": "29fac298-d210-4c38-ac7d-7ae17a015659",
   "metadata": {},
   "outputs": [
    {
     "name": "stdout",
     "output_type": "stream",
     "text": [
      "2\n",
      "torch.Size([3, 3])\n"
     ]
    }
   ],
   "source": [
    "matrix = torch.tensor([[1, 2, 3],\n",
    "                      [4, 5, 6],\n",
    "                      [7, 8, 9]])\n",
    "print(matrix.ndim)\n",
    "print(matrix.shape)"
   ]
  },
  {
   "cell_type": "code",
   "execution_count": 64,
   "id": "4b6bd8ef-c610-4633-a3c4-aea27b25d915",
   "metadata": {},
   "outputs": [
    {
     "data": {
      "text/plain": [
       "tensor(3)"
      ]
     },
     "execution_count": 64,
     "metadata": {},
     "output_type": "execute_result"
    }
   ],
   "source": [
    "matrix[0][2]"
   ]
  },
  {
   "cell_type": "code",
   "execution_count": 65,
   "id": "73f697e2-21d7-452a-96b3-8d56721fefc7",
   "metadata": {},
   "outputs": [],
   "source": [
    "#########################################################################"
   ]
  },
  {
   "cell_type": "code",
   "execution_count": 66,
   "id": "3dc9fd2c-4992-43f4-b721-acde9ac0c510",
   "metadata": {},
   "outputs": [
    {
     "data": {
      "text/plain": [
       "torch.Size([3, 4])"
      ]
     },
     "execution_count": 66,
     "metadata": {},
     "output_type": "execute_result"
    }
   ],
   "source": [
    "### Random tensors\n",
    "random_tensor = torch.rand(3, 4)\n",
    "random_tensor.shape"
   ]
  },
  {
   "cell_type": "code",
   "execution_count": 67,
   "id": "e7fb8a28-e638-4959-adf9-98f7e480df84",
   "metadata": {},
   "outputs": [
    {
     "data": {
      "text/plain": [
       "2"
      ]
     },
     "execution_count": 67,
     "metadata": {},
     "output_type": "execute_result"
    }
   ],
   "source": [
    "random_tensor.ndim"
   ]
  },
  {
   "cell_type": "code",
   "execution_count": 68,
   "id": "8e1006a8-c16f-4c61-9272-7f971faf365c",
   "metadata": {},
   "outputs": [
    {
     "data": {
      "text/plain": [
       "tensor([[0.0085, 0.1363, 0.4501, 0.6911],\n",
       "        [0.7288, 0.3438, 0.6891, 0.0400],\n",
       "        [0.0908, 0.4503, 0.3482, 0.1500]])"
      ]
     },
     "execution_count": 68,
     "metadata": {},
     "output_type": "execute_result"
    }
   ],
   "source": [
    "random_tensor"
   ]
  },
  {
   "cell_type": "code",
   "execution_count": 69,
   "id": "859ae121-3276-48da-a5bb-e560233bf987",
   "metadata": {},
   "outputs": [
    {
     "data": {
      "text/plain": [
       "tensor([[[0.8133, 0.3403, 0.1953,  ..., 0.1212, 0.1507, 0.7314],\n",
       "         [0.1647, 0.6059, 0.4312,  ..., 0.9029, 0.2302, 0.3263],\n",
       "         [0.3951, 0.9097, 0.2328,  ..., 0.9728, 0.1297, 0.2061],\n",
       "         ...,\n",
       "         [0.9691, 0.5153, 0.5016,  ..., 0.7537, 0.2520, 0.2408],\n",
       "         [0.1868, 0.0210, 0.7307,  ..., 0.5676, 0.0876, 0.8899],\n",
       "         [0.8971, 0.6219, 0.0486,  ..., 0.5893, 0.8347, 0.5891]],\n",
       "\n",
       "        [[0.2725, 0.4243, 0.0496,  ..., 0.2261, 0.7268, 0.9692],\n",
       "         [0.6452, 0.0867, 0.7359,  ..., 0.9556, 0.9120, 0.0025],\n",
       "         [0.7004, 0.1498, 0.4434,  ..., 0.0864, 0.6905, 0.3874],\n",
       "         ...,\n",
       "         [0.6084, 0.2768, 0.8923,  ..., 0.8873, 0.8793, 0.5742],\n",
       "         [0.1215, 0.7134, 0.2554,  ..., 0.4635, 0.5004, 0.1753],\n",
       "         [0.5046, 0.2982, 0.0524,  ..., 0.3349, 0.5059, 0.4207]],\n",
       "\n",
       "        [[0.8401, 0.1835, 0.9357,  ..., 0.1124, 0.6855, 0.8762],\n",
       "         [0.6800, 0.1792, 0.5844,  ..., 0.2957, 0.7200, 0.2165],\n",
       "         [0.5369, 0.7281, 0.6476,  ..., 0.2087, 0.3795, 0.3319],\n",
       "         ...,\n",
       "         [0.3730, 0.4885, 0.2062,  ..., 0.5534, 0.4334, 0.9826],\n",
       "         [0.0783, 0.9617, 0.8092,  ..., 0.9005, 0.2048, 0.4115],\n",
       "         [0.6982, 0.7493, 0.6418,  ..., 0.5424, 0.5676, 0.7791]]])"
      ]
     },
     "execution_count": 69,
     "metadata": {},
     "output_type": "execute_result"
    }
   ],
   "source": [
    "random_image_size_tensor = torch.rand(size=(3, 224, 224))\n",
    "random_image_size_tensor"
   ]
  },
  {
   "cell_type": "code",
   "execution_count": 70,
   "id": "76c29626-9ad7-40db-b96b-951716b8baef",
   "metadata": {},
   "outputs": [
    {
     "data": {
      "text/plain": [
       "3"
      ]
     },
     "execution_count": 70,
     "metadata": {},
     "output_type": "execute_result"
    }
   ],
   "source": [
    "random_image_size_tensor.ndim"
   ]
  },
  {
   "cell_type": "code",
   "execution_count": 71,
   "id": "91501c51-3df1-477d-a34d-b5ad7b741a84",
   "metadata": {},
   "outputs": [
    {
     "data": {
      "text/plain": [
       "torch.Size([3, 224, 224])"
      ]
     },
     "execution_count": 71,
     "metadata": {},
     "output_type": "execute_result"
    }
   ],
   "source": [
    "random_image_size_tensor.shape"
   ]
  },
  {
   "cell_type": "code",
   "execution_count": 72,
   "id": "efe36ca0-8b03-47fe-8f2c-795df2642652",
   "metadata": {},
   "outputs": [
    {
     "data": {
      "text/plain": [
       "tensor([[0., 0., 0.],\n",
       "        [0., 0., 0.]])"
      ]
     },
     "execution_count": 72,
     "metadata": {},
     "output_type": "execute_result"
    }
   ],
   "source": [
    "#########################################################################\n",
    "zeros = torch.zeros(2, 3)\n",
    "zeros"
   ]
  },
  {
   "cell_type": "code",
   "execution_count": 73,
   "id": "73e6de5b-4ec7-4ca9-8d21-fd5ed51e14b9",
   "metadata": {},
   "outputs": [
    {
     "data": {
      "text/plain": [
       "tensor([[1., 1., 1., 1.],\n",
       "        [1., 1., 1., 1.]])"
      ]
     },
     "execution_count": 73,
     "metadata": {},
     "output_type": "execute_result"
    }
   ],
   "source": [
    "ones = torch.ones(2, 4)\n",
    "ones"
   ]
  },
  {
   "cell_type": "code",
   "execution_count": 74,
   "id": "bec91707-f392-4301-9725-aef9ce7da607",
   "metadata": {},
   "outputs": [],
   "source": [
    "#########################################################################"
   ]
  },
  {
   "cell_type": "code",
   "execution_count": 75,
   "id": "b1d61fd1-52f0-4b04-969d-fc56413190f3",
   "metadata": {},
   "outputs": [
    {
     "data": {
      "text/plain": [
       "tensor([0, 1, 2, 3, 4, 5, 6, 7, 8, 9])"
      ]
     },
     "execution_count": 75,
     "metadata": {},
     "output_type": "execute_result"
    }
   ],
   "source": [
    "torch.arange(0, 10)"
   ]
  },
  {
   "cell_type": "code",
   "execution_count": 76,
   "id": "6bdf1775-b9a5-4c34-a7ce-51e0cf2f8f47",
   "metadata": {},
   "outputs": [
    {
     "data": {
      "text/plain": [
       "tensor([1, 2, 3, 4])"
      ]
     },
     "execution_count": 76,
     "metadata": {},
     "output_type": "execute_result"
    }
   ],
   "source": [
    "torch.arange(1, 5)"
   ]
  },
  {
   "cell_type": "code",
   "execution_count": 77,
   "id": "eaaef36f-f517-42b0-b80e-4426c8172e15",
   "metadata": {},
   "outputs": [
    {
     "data": {
      "text/plain": [
       "tensor([1, 2, 3, 4, 5, 6])"
      ]
     },
     "execution_count": 77,
     "metadata": {},
     "output_type": "execute_result"
    }
   ],
   "source": [
    "one_to_six = torch.arange(1, 7)\n",
    "one_to_six"
   ]
  },
  {
   "cell_type": "code",
   "execution_count": 78,
   "id": "53692a5b-a67f-41ab-9c28-b31f73a128ab",
   "metadata": {},
   "outputs": [
    {
     "data": {
      "text/plain": [
       "tensor([0, 0, 0, 0, 0, 0])"
      ]
     },
     "execution_count": 78,
     "metadata": {},
     "output_type": "execute_result"
    }
   ],
   "source": [
    "six_zeros = torch.zeros_like(one_to_six)\n",
    "six_zeros"
   ]
  },
  {
   "cell_type": "code",
   "execution_count": 79,
   "id": "0f9d3ea0-b98a-4426-b300-cc449c9e557a",
   "metadata": {},
   "outputs": [
    {
     "ename": "NameError",
     "evalue": "name 'tensor' is not defined",
     "output_type": "error",
     "traceback": [
      "\u001b[0;31m---------------------------------------------------------------------------\u001b[0m",
      "\u001b[0;31mNameError\u001b[0m                                 Traceback (most recent call last)",
      "Cell \u001b[0;32mIn[79], line 1\u001b[0m\n\u001b[0;32m----> 1\u001b[0m \u001b[43mtensor\u001b[49m\u001b[38;5;241m.\u001b[39mdevice\n",
      "\u001b[0;31mNameError\u001b[0m: name 'tensor' is not defined"
     ]
    }
   ],
   "source": [
    "tensor.device\n"
   ]
  },
  {
   "cell_type": "code",
   "execution_count": null,
   "id": "6a2b769e-4a37-4591-b91c-796e29b61952",
   "metadata": {},
   "outputs": [],
   "source": [
    "six_zeros.device"
   ]
  },
  {
   "cell_type": "code",
   "execution_count": null,
   "id": "31ef1198-2616-4b76-aaf1-9c501f196817",
   "metadata": {},
   "outputs": [],
   "source": [
    "six_zeros.device(\"gpu\")\n"
   ]
  },
  {
   "cell_type": "code",
   "execution_count": null,
   "id": "03f6b277-a95f-46f2-97ab-d0777221524e",
   "metadata": {},
   "outputs": [],
   "source": [
    "six_zeros.device = \"gpu\""
   ]
  },
  {
   "cell_type": "code",
   "execution_count": null,
   "id": "d55bbf88-d246-4c6a-873f-fb7297b66d9e",
   "metadata": {},
   "outputs": [],
   "source": [
    "six_zeros = torch.zeros_like(one_to_six, device=\"cpu\")"
   ]
  },
  {
   "cell_type": "code",
   "execution_count": null,
   "id": "9753d9f2-b3d8-4aa1-8610-bab5b5b5eb87",
   "metadata": {},
   "outputs": [],
   "source": [
    "six_zeros"
   ]
  },
  {
   "cell_type": "markdown",
   "id": "4a06cdfb-29fe-4ecd-987d-e71c5e7bca6e",
   "metadata": {},
   "source": [
    "### Manipulating Tensors\n",
    "* addition\n",
    "* substraction\n",
    "* multiplication\n",
    "* division\n",
    "* matrix operation"
   ]
  },
  {
   "cell_type": "code",
   "execution_count": null,
   "id": "ddb0fa19-b3b3-40ad-aba7-ac5ef3ae59ea",
   "metadata": {},
   "outputs": [],
   "source": [
    "tensor = torch.tensor([1, 2, 3])\n",
    "tensor + 10"
   ]
  },
  {
   "cell_type": "code",
   "execution_count": null,
   "id": "b58d8cb7-1ae0-4315-8682-a47116e3d7f6",
   "metadata": {},
   "outputs": [],
   "source": [
    "tensor"
   ]
  },
  {
   "cell_type": "code",
   "execution_count": null,
   "id": "2b8cf1ae-2155-45a6-9643-3ce47ffe3064",
   "metadata": {},
   "outputs": [],
   "source": [
    "tensor = tensor + 2"
   ]
  },
  {
   "cell_type": "code",
   "execution_count": null,
   "id": "0964da58-774a-415e-aa82-a0a53e7e8971",
   "metadata": {},
   "outputs": [],
   "source": [
    "tensor"
   ]
  },
  {
   "cell_type": "code",
   "execution_count": null,
   "id": "12cfb86d-83da-4140-9641-7f4b2bcfaafd",
   "metadata": {},
   "outputs": [],
   "source": [
    "tensor -2"
   ]
  },
  {
   "cell_type": "code",
   "execution_count": null,
   "id": "fbc19c0e-4110-43f7-b7ce-b834129c0c0c",
   "metadata": {},
   "outputs": [],
   "source": [
    "tensor - 4"
   ]
  },
  {
   "cell_type": "code",
   "execution_count": null,
   "id": "87493c11-ba54-404b-bf24-844a23d84712",
   "metadata": {},
   "outputs": [],
   "source": [
    "tensor\n"
   ]
  },
  {
   "cell_type": "code",
   "execution_count": null,
   "id": "e46db6e7-90ba-467c-be15-c58c327891e6",
   "metadata": {},
   "outputs": [],
   "source": [
    "tensor * 10\n"
   ]
  },
  {
   "cell_type": "code",
   "execution_count": null,
   "id": "36e9953c-45f4-4031-8beb-8f78026453bc",
   "metadata": {},
   "outputs": [],
   "source": [
    "tensor / 10\n"
   ]
  },
  {
   "cell_type": "code",
   "execution_count": null,
   "id": "9032411b-7813-4044-a0ff-867ad5155fc7",
   "metadata": {},
   "outputs": [],
   "source": [
    "################################################\n",
    "\n",
    "tensor = torch.tensor([1, 2, 3])\n",
    "tensor"
   ]
  },
  {
   "cell_type": "code",
   "execution_count": null,
   "id": "141e916a-e926-489b-89fd-c330c11e8876",
   "metadata": {},
   "outputs": [],
   "source": [
    "tensor * tensor"
   ]
  },
  {
   "cell_type": "code",
   "execution_count": null,
   "id": "b014f9d9-2bf0-4593-b111-cd5a88536897",
   "metadata": {},
   "outputs": [],
   "source": [
    "# Matrix multiplication\n",
    "torch.matmul(tensor, tensor)\n"
   ]
  },
  {
   "cell_type": "code",
   "execution_count": null,
   "id": "b764c76d-d046-4c1c-8185-42a2ea225f16",
   "metadata": {},
   "outputs": [],
   "source": [
    "1 + 4 + 9\n"
   ]
  },
  {
   "cell_type": "code",
   "execution_count": null,
   "id": "9bb5375f-0615-43d1-8adf-823d4134f4e8",
   "metadata": {},
   "outputs": [],
   "source": [
    "################################################\n",
    "tensor_a = torch.tensor([[1, 2],\n",
    "                         [3, 4],\n",
    "                         [5, 6]])\n",
    "tensor_b = torch.tensor([[7, 10],\n",
    "                         [8, 11],\n",
    "                         [9, 12]])\n",
    "torch.matmul(tensor_a, tensor_b)"
   ]
  },
  {
   "cell_type": "code",
   "execution_count": null,
   "id": "eb19099e-f48f-4834-9b87-1ec0492c1512",
   "metadata": {},
   "outputs": [],
   "source": [
    "torch.matmul(tensor_a, tensor_b.T)"
   ]
  },
  {
   "cell_type": "code",
   "execution_count": null,
   "id": "5caa61f9-865d-444c-a5c1-b498199ccca3",
   "metadata": {},
   "outputs": [],
   "source": [
    "tensor_b.T"
   ]
  },
  {
   "cell_type": "code",
   "execution_count": 80,
   "id": "de7e94f0-95c9-47ff-8c5b-22db31e39ff0",
   "metadata": {},
   "outputs": [
    {
     "data": {
      "text/plain": [
       "tensor([1, 3, 5, 7, 9])"
      ]
     },
     "execution_count": 80,
     "metadata": {},
     "output_type": "execute_result"
    }
   ],
   "source": [
    "######################################################\n",
    "# Tensor agregation\n",
    "\n",
    "x = torch.arange(1, 10, 2)\n",
    "x"
   ]
  },
  {
   "cell_type": "code",
   "execution_count": 81,
   "id": "97a33a1b-18fb-4703-942a-6286569f4bd5",
   "metadata": {},
   "outputs": [
    {
     "data": {
      "text/plain": [
       "tensor(1)"
      ]
     },
     "execution_count": 81,
     "metadata": {},
     "output_type": "execute_result"
    }
   ],
   "source": [
    "x.min()\n"
   ]
  },
  {
   "cell_type": "code",
   "execution_count": 82,
   "id": "c30c963c-e776-409c-955a-5d33cc6071ba",
   "metadata": {},
   "outputs": [
    {
     "data": {
      "text/plain": [
       "tensor(1)"
      ]
     },
     "execution_count": 82,
     "metadata": {},
     "output_type": "execute_result"
    }
   ],
   "source": [
    "torch.min(x)"
   ]
  },
  {
   "cell_type": "code",
   "execution_count": 83,
   "id": "7cea3d63-5284-424d-91a2-2ad0e0df58ea",
   "metadata": {},
   "outputs": [
    {
     "data": {
      "text/plain": [
       "(tensor(9), tensor(9))"
      ]
     },
     "execution_count": 83,
     "metadata": {},
     "output_type": "execute_result"
    }
   ],
   "source": [
    "torch.max(x), x.max()"
   ]
  },
  {
   "cell_type": "code",
   "execution_count": null,
   "id": "67a9ca91-4967-4958-a055-b6c9d9380f16",
   "metadata": {},
   "outputs": [],
   "source": [
    "\n"
   ]
  },
  {
   "cell_type": "code",
   "execution_count": 84,
   "id": "ae876101-b9c2-4762-b6e1-bc447ea21eae",
   "metadata": {},
   "outputs": [
    {
     "data": {
      "text/plain": [
       "tensor(5.)"
      ]
     },
     "execution_count": 84,
     "metadata": {},
     "output_type": "execute_result"
    }
   ],
   "source": [
    "x.type(torch.float32).mean()\n"
   ]
  },
  {
   "cell_type": "markdown",
   "id": "378ccb0f-36b6-4387-ab8b-ec8f1e8145fb",
   "metadata": {},
   "source": [
    "### torch.mean() requries floating point number tensor"
   ]
  },
  {
   "cell_type": "code",
   "execution_count": 85,
   "id": "cd1e7c8f-f938-47a5-8b5c-d42c38620a2a",
   "metadata": {},
   "outputs": [
    {
     "data": {
      "text/plain": [
       "tensor(5.)"
      ]
     },
     "execution_count": 85,
     "metadata": {},
     "output_type": "execute_result"
    }
   ],
   "source": [
    "torch.mean(x.type(torch.float32))"
   ]
  },
  {
   "cell_type": "code",
   "execution_count": 86,
   "id": "6d527839-d5d5-4160-b2da-1299592941e4",
   "metadata": {},
   "outputs": [
    {
     "data": {
      "text/plain": [
       "tensor(4)"
      ]
     },
     "execution_count": 86,
     "metadata": {},
     "output_type": "execute_result"
    }
   ],
   "source": [
    "x.argmax()"
   ]
  },
  {
   "cell_type": "code",
   "execution_count": 87,
   "id": "839c4444-0c01-43ce-a2e5-e9b5010e3fd2",
   "metadata": {},
   "outputs": [
    {
     "data": {
      "text/plain": [
       "tensor(9)"
      ]
     },
     "execution_count": 87,
     "metadata": {},
     "output_type": "execute_result"
    }
   ],
   "source": [
    "x.max()"
   ]
  },
  {
   "cell_type": "code",
   "execution_count": 88,
   "id": "79de67df-0f79-4ffe-9cfb-08cb33ac95a6",
   "metadata": {},
   "outputs": [
    {
     "data": {
      "text/plain": [
       "tensor(0)"
      ]
     },
     "execution_count": 88,
     "metadata": {},
     "output_type": "execute_result"
    }
   ],
   "source": [
    "x.argmin()"
   ]
  },
  {
   "cell_type": "code",
   "execution_count": 89,
   "id": "a4a71545-18e7-462b-bef3-e33ff9e6a0ac",
   "metadata": {},
   "outputs": [
    {
     "data": {
      "text/plain": [
       "tensor(1)"
      ]
     },
     "execution_count": 89,
     "metadata": {},
     "output_type": "execute_result"
    }
   ],
   "source": [
    "x.min()"
   ]
  },
  {
   "cell_type": "code",
   "execution_count": 90,
   "id": "515949a5-7676-4e3f-931c-04c9be19e44c",
   "metadata": {},
   "outputs": [
    {
     "data": {
      "text/plain": [
       "tensor([1, 3, 5, 7, 9])"
      ]
     },
     "execution_count": 90,
     "metadata": {},
     "output_type": "execute_result"
    }
   ],
   "source": [
    "x"
   ]
  },
  {
   "cell_type": "markdown",
   "id": "5d7fa777-f07e-4e18-8eae-0aaa550f18f5",
   "metadata": {},
   "source": [
    "### Reshaping - reshapes input tensor to defined shape\n",
    "### Stacking - combine multiple tensors on top of each other VSTACK or next to each other HSTACK'\n",
    "### Squeeze - removes all 1 dimensioons from a tensor\n",
    "### Permute - return a view of the input with dimensions permuted (swapped) in a certain way"
   ]
  },
  {
   "cell_type": "code",
   "execution_count": 114,
   "id": "12e7c215-7648-4f60-8830-9126646c45ec",
   "metadata": {},
   "outputs": [
    {
     "name": "stdout",
     "output_type": "stream",
     "text": [
      "tensor([ 1.,  2.,  3.,  4.,  5.,  6.,  7.,  8.,  9., 10.])\n",
      "torch.Size([10])\n",
      "tensor([[ 1.,  2.,  3.,  4.,  5.,  6.,  7.,  8.,  9., 10.]])\n",
      "torch.Size([1, 10])\n"
     ]
    }
   ],
   "source": [
    "import torch\n",
    "\n",
    "x = torch.arange(1. , 11.)\n",
    "print(x)\n",
    "print(x.shape)\n",
    "\n",
    "x_reshaped = x.reshape(1, 10)\n",
    "print(x_reshaped)\n",
    "print(x_reshaped.shape)"
   ]
  },
  {
   "cell_type": "code",
   "execution_count": 122,
   "id": "7b66d463-5dc8-41f0-b756-f22d38d3e3bd",
   "metadata": {},
   "outputs": [
    {
     "name": "stdout",
     "output_type": "stream",
     "text": [
      "tensor([[ 1.,  2.,  3.,  4.,  5.],\n",
      "        [ 6.,  7.,  8.,  9., 10.]])\n",
      "torch.Size([2, 5])\n"
     ]
    }
   ],
   "source": [
    "x_reshaped = x.reshape(2, 5)\n",
    "print(x_reshaped)\n",
    "print(x_reshaped.shape)"
   ]
  },
  {
   "cell_type": "code",
   "execution_count": 126,
   "id": "f4e35149-26d2-4bcc-9cd8-5663530368b2",
   "metadata": {},
   "outputs": [
    {
     "name": "stdout",
     "output_type": "stream",
     "text": [
      "tensor([[ 1.,  2.,  3.,  4.,  5.,  6.,  7.,  8.,  9., 10.]])\n",
      "torch.Size([1, 10])\n"
     ]
    }
   ],
   "source": [
    "# Changing view of matrix\n",
    "z = x.view(1, 10)\n",
    "print(z)\n",
    "print(z.shape)"
   ]
  },
  {
   "cell_type": "code",
   "execution_count": 128,
   "id": "8f383c90-a907-4fc2-8fc3-26156ac0312e",
   "metadata": {},
   "outputs": [
    {
     "name": "stdout",
     "output_type": "stream",
     "text": [
      "tensor([[69.,  2.,  3.,  4.,  5.,  6.,  7.,  8.,  9., 10.]])\n",
      "tensor([69.,  2.,  3.,  4.,  5.,  6.,  7.,  8.,  9., 10.])\n"
     ]
    }
   ],
   "source": [
    "z[:, 0] = 69\n",
    "print(z)\n",
    "print(x)"
   ]
  },
  {
   "cell_type": "code",
   "execution_count": 137,
   "id": "cdae63f5-b2c6-44ce-9976-877a27270b6c",
   "metadata": {},
   "outputs": [
    {
     "data": {
      "text/plain": [
       "tensor([[69.,  2.,  3.,  4.,  5.,  6.,  7.,  8.,  9., 10.],\n",
       "        [69.,  2.,  3.,  4.,  5.,  6.,  7.,  8.,  9., 10.],\n",
       "        [69.,  2.,  3.,  4.,  5.,  6.,  7.,  8.,  9., 10.]])"
      ]
     },
     "execution_count": 137,
     "metadata": {},
     "output_type": "execute_result"
    }
   ],
   "source": [
    "# Stacking:\n",
    "x_stacked = torch.stack([x, x, x], dim=0)\n",
    "x_stacked"
   ]
  },
  {
   "cell_type": "code",
   "execution_count": 152,
   "id": "3baf4e3d-9f5e-48f9-8fb1-e49f961d2c48",
   "metadata": {},
   "outputs": [
    {
     "name": "stdout",
     "output_type": "stream",
     "text": [
      "torch.Size([2, 1, 1]) \n",
      "\n",
      "tensor([[[0.]],\n",
      "\n",
      "        [[0.]]])\n",
      "torch.Size([2]) \n",
      "\n",
      "tensor([0., 0.])\n"
     ]
    }
   ],
   "source": [
    "# Squeezing and Unsqueezing\n",
    "# squeezing removes all single dimensions from a tensor\n",
    "x = torch.zeros(2,1,1)\n",
    "print(x.size(), \"\\n\")\n",
    "print(x)\n",
    "\n",
    "x_squeezed = torch.squeeze(x)\n",
    "print(x_squeezed.size(), \"\\n\")\n",
    "print(x_squeezed)\n"
   ]
  },
  {
   "cell_type": "code",
   "execution_count": 180,
   "id": "d7a3b347-7a7e-4dbf-baca-526ab06c64ea",
   "metadata": {},
   "outputs": [
    {
     "name": "stdout",
     "output_type": "stream",
     "text": [
      "torch.Size([224, 224, 3])\n",
      "torch.Size([3, 224, 224])\n"
     ]
    }
   ],
   "source": [
    "# Permuting\n",
    "x = torch.rand(224, 224, 3)\n",
    "print(x.shape)\n",
    "x[0][0][0] = 777\n",
    "x_permuted = x.permute(2, 0, 1)\n",
    "print(x_permuted.shape)\n",
    "# x_permuted\n"
   ]
  },
  {
   "cell_type": "markdown",
   "id": "8b36798e-aa4a-44f5-9178-0079dd900bd6",
   "metadata": {},
   "source": [
    "### Indexing"
   ]
  },
  {
   "cell_type": "code",
   "execution_count": 189,
   "id": "785a9ded-06c9-4863-ac46-ee72b4521a59",
   "metadata": {},
   "outputs": [],
   "source": [
    "import torch\n",
    "x = torch.arange(1, 10).reshape(1, 3, 3)"
   ]
  },
  {
   "cell_type": "code",
   "execution_count": 192,
   "id": "56e06fab-1e4a-4d13-ab79-84766228513e",
   "metadata": {},
   "outputs": [
    {
     "data": {
      "text/plain": [
       "tensor([[[1, 2, 3],\n",
       "         [4, 5, 6],\n",
       "         [7, 8, 9]]])"
      ]
     },
     "execution_count": 192,
     "metadata": {},
     "output_type": "execute_result"
    }
   ],
   "source": [
    "x"
   ]
  },
  {
   "cell_type": "code",
   "execution_count": 193,
   "id": "550ec35c-7b2c-432e-ab6d-e510b640a37c",
   "metadata": {},
   "outputs": [
    {
     "data": {
      "text/plain": [
       "tensor([[1, 2, 3],\n",
       "        [4, 5, 6],\n",
       "        [7, 8, 9]])"
      ]
     },
     "execution_count": 193,
     "metadata": {},
     "output_type": "execute_result"
    }
   ],
   "source": [
    "x[0]"
   ]
  },
  {
   "cell_type": "code",
   "execution_count": 194,
   "id": "ea159174-37af-4c54-9aab-eece0071ddda",
   "metadata": {},
   "outputs": [
    {
     "data": {
      "text/plain": [
       "tensor([1, 2, 3])"
      ]
     },
     "execution_count": 194,
     "metadata": {},
     "output_type": "execute_result"
    }
   ],
   "source": [
    "x[0][0]"
   ]
  },
  {
   "cell_type": "code",
   "execution_count": 195,
   "id": "a6a76b50-6a2b-4fdf-be51-55b36968f44c",
   "metadata": {},
   "outputs": [
    {
     "data": {
      "text/plain": [
       "tensor([1, 2, 3])"
      ]
     },
     "execution_count": 195,
     "metadata": {},
     "output_type": "execute_result"
    }
   ],
   "source": [
    "x[0, 0]"
   ]
  },
  {
   "cell_type": "code",
   "execution_count": 200,
   "id": "546164dd-ae10-4058-9982-1ffbee8f3806",
   "metadata": {},
   "outputs": [
    {
     "data": {
      "text/plain": [
       "tensor(9)"
      ]
     },
     "execution_count": 200,
     "metadata": {},
     "output_type": "execute_result"
    }
   ],
   "source": [
    "x[0, 2, 2]"
   ]
  },
  {
   "cell_type": "code",
   "execution_count": 203,
   "id": "373a98b6-bca8-445e-8659-e4616fd121d7",
   "metadata": {},
   "outputs": [
    {
     "data": {
      "text/plain": [
       "tensor([[1, 4, 7]])"
      ]
     },
     "execution_count": 203,
     "metadata": {},
     "output_type": "execute_result"
    }
   ],
   "source": [
    "x[:, :, 0]"
   ]
  },
  {
   "cell_type": "code",
   "execution_count": 204,
   "id": "b1645681-8abf-49f4-b55e-1dbcf740b13c",
   "metadata": {},
   "outputs": [
    {
     "data": {
      "text/plain": [
       "tensor([[2, 5, 8]])"
      ]
     },
     "execution_count": 204,
     "metadata": {},
     "output_type": "execute_result"
    }
   ],
   "source": [
    "x[:, :, 1]\n"
   ]
  },
  {
   "cell_type": "code",
   "execution_count": 205,
   "id": "8522178f-761c-4339-b368-93d476ef4d3a",
   "metadata": {},
   "outputs": [
    {
     "data": {
      "text/plain": [
       "tensor([[3, 6, 9]])"
      ]
     },
     "execution_count": 205,
     "metadata": {},
     "output_type": "execute_result"
    }
   ],
   "source": [
    "x[:, :, 2]\n"
   ]
  },
  {
   "cell_type": "code",
   "execution_count": 209,
   "id": "39d6a897-6ea5-45cc-ae8c-1750f18b3e3f",
   "metadata": {},
   "outputs": [
    {
     "data": {
      "text/plain": [
       "tensor([1, 2, 3])"
      ]
     },
     "execution_count": 209,
     "metadata": {},
     "output_type": "execute_result"
    }
   ],
   "source": [
    "x[0, 0, :]"
   ]
  },
  {
   "cell_type": "code",
   "execution_count": 210,
   "id": "31f513d0-caf2-40d9-9700-523be3a1e909",
   "metadata": {},
   "outputs": [
    {
     "data": {
      "text/plain": [
       "tensor(9)"
      ]
     },
     "execution_count": 210,
     "metadata": {},
     "output_type": "execute_result"
    }
   ],
   "source": [
    "x[0, 2, 2]"
   ]
  },
  {
   "cell_type": "code",
   "execution_count": 214,
   "id": "23c37e42-ddf6-4f1d-8cfe-f13dde50f881",
   "metadata": {},
   "outputs": [
    {
     "data": {
      "text/plain": [
       "tensor([[[1, 2, 3],\n",
       "         [4, 5, 6],\n",
       "         [7, 8, 9]]])"
      ]
     },
     "execution_count": 214,
     "metadata": {},
     "output_type": "execute_result"
    }
   ],
   "source": [
    "x"
   ]
  },
  {
   "cell_type": "code",
   "execution_count": 215,
   "id": "59de91b3-bc8f-4e20-bfe3-838938abeac1",
   "metadata": {},
   "outputs": [
    {
     "data": {
      "text/plain": [
       "tensor([3, 6, 9])"
      ]
     },
     "execution_count": 215,
     "metadata": {},
     "output_type": "execute_result"
    }
   ],
   "source": [
    "x[0, :, 2]"
   ]
  },
  {
   "cell_type": "markdown",
   "id": "7f80675c-a9f3-4c00-b438-c24bd970e29c",
   "metadata": {},
   "source": [
    "### NumPy and PyTorch"
   ]
  },
  {
   "cell_type": "code",
   "execution_count": 217,
   "id": "7aef2933-6b1c-4a8a-9c2a-d9c11db52b5c",
   "metadata": {},
   "outputs": [
    {
     "name": "stdout",
     "output_type": "stream",
     "text": [
      "[1. 2. 3. 4. 5. 6. 7.]\n",
      "tensor([1., 2., 3., 4., 5., 6., 7.], dtype=torch.float64)\n"
     ]
    }
   ],
   "source": [
    "import torch\n",
    "import numpy as np\n",
    "\n",
    "array = np.arange(1. , 8.)\n",
    "print(array)\n",
    "tensor = torch.from_numpy(array)\n",
    "print(tensor)"
   ]
  },
  {
   "cell_type": "markdown",
   "id": "9edfc962-a4f6-4e16-96d7-17df8a56e170",
   "metadata": {},
   "source": [
    "### Reproducbility"
   ]
  },
  {
   "cell_type": "code",
   "execution_count": 295,
   "id": "012a9d1d-a316-4a08-902e-8767f30a595d",
   "metadata": {},
   "outputs": [
    {
     "name": "stdout",
     "output_type": "stream",
     "text": [
      "tensor([[0.2595, 0.6169, 0.2448, 0.4867],\n",
      "        [0.2373, 0.0814, 0.2500, 0.9068],\n",
      "        [0.6041, 0.5108, 0.6620, 0.3195]])\n",
      "tensor([[0.4809, 0.2535, 0.7538, 0.3094],\n",
      "        [0.5795, 0.7337, 0.1537, 0.3342],\n",
      "        [0.3709, 0.8225, 0.1114, 0.0718]])\n"
     ]
    }
   ],
   "source": [
    "import torch \n",
    "\n",
    "tensor_A = torch.rand(3, 4)\n",
    "tensor_B = torch.rand(3, 4)\n",
    "\n",
    "print(tensor_A)\n",
    "print(tensor_B)\n"
   ]
  },
  {
   "cell_type": "code",
   "execution_count": 296,
   "id": "439c2281-f186-44c1-9693-f8cc6bfc1317",
   "metadata": {},
   "outputs": [
    {
     "name": "stdout",
     "output_type": "stream",
     "text": [
      "tensor([[False, False, False, False],\n",
      "        [False, False, False, False],\n",
      "        [False, False, False, False]])\n"
     ]
    }
   ],
   "source": [
    "print(tensor_A == tensor_B)"
   ]
  },
  {
   "cell_type": "code",
   "execution_count": 310,
   "id": "7198da28-4994-4f2f-a7c0-29976b467e10",
   "metadata": {},
   "outputs": [
    {
     "name": "stdout",
     "output_type": "stream",
     "text": [
      "tensor([[0.0492, 0.5989, 0.1771, 0.2639],\n",
      "        [0.4717, 0.8384, 0.1639, 0.1899],\n",
      "        [0.9971, 0.5516, 0.7827, 0.1247]])\n",
      "tensor([[0.0492, 0.5989, 0.1771, 0.2639],\n",
      "        [0.4717, 0.8384, 0.1639, 0.1899],\n",
      "        [0.9971, 0.5516, 0.7827, 0.1247]])\n",
      "tensor([[True, True, True, True],\n",
      "        [True, True, True, True],\n",
      "        [True, True, True, True]])\n"
     ]
    }
   ],
   "source": [
    "RANDOM_SEED = 64\n",
    "\n",
    "torch.manual_seed(RANDOM_SEED)\n",
    "tensor_C = torch.rand(3, 4)\n",
    "torch.manual_seed(RANDOM_SEED)\n",
    "tensor_D = torch.rand(3, 4)\n",
    "\n",
    "print(tensor_C)\n",
    "print(tensor_D)\n",
    "\n",
    "print(tensor_C == tensor_D)\n"
   ]
  },
  {
   "cell_type": "code",
   "execution_count": 311,
   "id": "b0adedb1-a163-4624-99d7-51d324e2e6dd",
   "metadata": {},
   "outputs": [
    {
     "name": "stdout",
     "output_type": "stream",
     "text": [
      "zsh:1: command not found: nvidia-smi\n"
     ]
    }
   ],
   "source": [
    "!nvidia-smi"
   ]
  },
  {
   "cell_type": "code",
   "execution_count": 314,
   "id": "0d2236a1-5e76-424b-9945-ca6592ab3ea5",
   "metadata": {},
   "outputs": [
    {
     "data": {
      "text/plain": [
       "False"
      ]
     },
     "execution_count": 314,
     "metadata": {},
     "output_type": "execute_result"
    }
   ],
   "source": [
    "torch.cuda.is_available()"
   ]
  },
  {
   "cell_type": "code",
   "execution_count": 315,
   "id": "91b5b132-7284-4840-90d2-98cd734c380e",
   "metadata": {},
   "outputs": [],
   "source": [
    "device = \"cuda\" if torch.cuda.is_available() else \"cpu\""
   ]
  },
  {
   "cell_type": "code",
   "execution_count": 316,
   "id": "e1d71064-1ed3-4a1c-83d1-20b99293bc4b",
   "metadata": {},
   "outputs": [
    {
     "data": {
      "text/plain": [
       "'cpu'"
      ]
     },
     "execution_count": 316,
     "metadata": {},
     "output_type": "execute_result"
    }
   ],
   "source": [
    "device"
   ]
  },
  {
   "cell_type": "code",
   "execution_count": null,
   "id": "94e9f022-2f6f-4349-a5aa-3e0223c6f5e5",
   "metadata": {},
   "outputs": [],
   "source": []
  }
 ],
 "metadata": {
  "kernelspec": {
   "display_name": "Python 3 (ipykernel)",
   "language": "python",
   "name": "python3"
  },
  "language_info": {
   "codemirror_mode": {
    "name": "ipython",
    "version": 3
   },
   "file_extension": ".py",
   "mimetype": "text/x-python",
   "name": "python",
   "nbconvert_exporter": "python",
   "pygments_lexer": "ipython3",
   "version": "3.8.10"
  }
 },
 "nbformat": 4,
 "nbformat_minor": 5
}
