{
 "cells": [
  {
   "cell_type": "markdown",
   "metadata": {
    "id": "AzDBM_v4iMe7"
   },
   "source": [
    "# 00. PyTorch Fundamentals Exercises\n",
    "\n",
    "### 1. Documentation reading \n",
    "\n",
    "A big part of deep learning (and learning to code in general) is getting familiar with the documentation of a certain framework you're using. We'll be using the PyTorch documentation a lot throughout the rest of this course. So I'd recommend spending 10-minutes reading the following (it's okay if you don't get some things for now, the focus is not yet full understanding, it's awareness):\n",
    "  * The documentation on [`torch.Tensor`](https://pytorch.org/docs/stable/tensors.html#torch-tensor).\n",
    "  * The documentation on [`torch.cuda`](https://pytorch.org/docs/master/notes/cuda.html#cuda-semantics).\n",
    "\n"
   ]
  },
  {
   "cell_type": "code",
   "execution_count": 1,
   "metadata": {
    "id": "bGD0oD8Kizak"
   },
   "outputs": [],
   "source": [
    "# No code solution (reading)"
   ]
  },
  {
   "cell_type": "markdown",
   "metadata": {
    "id": "__iXqqz-ioUJ"
   },
   "source": [
    "### 2. Create a random tensor with shape `(7, 7)`.\n"
   ]
  },
  {
   "cell_type": "code",
   "execution_count": 1,
   "metadata": {
    "id": "6pUq9Dc8i2L7"
   },
   "outputs": [
    {
     "name": "stdout",
     "output_type": "stream",
     "text": [
      "torch.Size([7, 7])\n",
      "tensor([[8.6748e-02, 2.8286e-01, 7.4568e-01, 9.4455e-01, 5.2811e-01, 7.3100e-01,\n",
      "         4.9314e-01],\n",
      "        [9.0362e-01, 1.3959e-01, 8.8894e-01, 6.7748e-01, 7.4792e-01, 9.6355e-01,\n",
      "         2.5268e-01],\n",
      "        [5.9597e-01, 6.9298e-01, 2.6745e-04, 4.5222e-01, 4.2592e-02, 7.9539e-01,\n",
      "         5.6843e-02],\n",
      "        [9.7504e-01, 7.0534e-02, 9.5262e-02, 5.1024e-01, 5.5411e-01, 6.0614e-01,\n",
      "         4.4409e-01],\n",
      "        [8.9415e-01, 2.9333e-01, 5.6329e-01, 6.0932e-01, 4.9797e-01, 6.2749e-01,\n",
      "         2.9081e-01],\n",
      "        [7.9302e-01, 4.0465e-01, 9.6917e-01, 3.0928e-01, 5.0919e-01, 2.6127e-01,\n",
      "         5.8687e-01],\n",
      "        [8.5266e-01, 9.0467e-01, 5.1717e-01, 7.8452e-01, 6.4924e-01, 4.5446e-01,\n",
      "         1.2848e-02]])\n"
     ]
    }
   ],
   "source": [
    "import torch\n",
    "\n",
    "x = torch.rand(7,7)\n",
    "print(x.shape)\n",
    "print(x)\n",
    "\n",
    "# Create random tensor\n"
   ]
  },
  {
   "cell_type": "markdown",
   "metadata": {
    "id": "9-XxvRLfiqkR"
   },
   "source": [
    "### 3. Perform a matrix multiplication on the tensor from 2 with another random tensor with shape `(1, 7)` (hint: you may have to transpose the second tensor)."
   ]
  },
  {
   "cell_type": "code",
   "execution_count": 13,
   "metadata": {
    "id": "NcLqR0Sbi_vT"
   },
   "outputs": [
    {
     "name": "stdout",
     "output_type": "stream",
     "text": [
      "torch.Size([1, 7])\n",
      "tensor([[0.5867, 0.3295, 0.8425, 0.4284, 0.7801, 0.6619, 0.2729]])\n",
      "tensor([[0.5867],\n",
      "        [0.3295],\n",
      "        [0.8425],\n",
      "        [0.4284],\n",
      "        [0.7801],\n",
      "        [0.6619],\n",
      "        [0.2729]])\n",
      "\n",
      " tensor([[2.2073],\n",
      "        [2.9054],\n",
      "        [1.3471],\n",
      "        [1.8488],\n",
      "        [2.2400],\n",
      "        [2.2779],\n",
      "        [2.3809]])\n"
     ]
    }
   ],
   "source": [
    "# Create another random tensor\n",
    "y = torch.rand(1, 7)\n",
    "print(y.shape)\n",
    "print(y)\n",
    "\n",
    "y_prim = torch.reshape(y, (7, 1))\n",
    "print(y_prim)\n",
    "\n",
    "xy = torch.matmul(x, y_prim)\n",
    "# Perform matrix multiplication \n",
    "print(\"\\n\", xy)"
   ]
  },
  {
   "cell_type": "markdown",
   "metadata": {
    "id": "eiutdKUFiryU"
   },
   "source": [
    "### 4. Set the random seed to `0` and do 2 & 3 over again.\n",
    "\n",
    "The output should be:\n",
    "```\n",
    "(tensor([[1.8542],\n",
    "         [1.9611],\n",
    "         [2.2884],\n",
    "         [3.0481],\n",
    "         [1.7067],\n",
    "         [2.5290],\n",
    "         [1.7989]]), torch.Size([7, 1]))\n",
    "```"
   ]
  },
  {
   "cell_type": "code",
   "execution_count": 15,
   "metadata": {
    "id": "D-lOWI_1jRMm"
   },
   "outputs": [
    {
     "name": "stdout",
     "output_type": "stream",
     "text": [
      "torch.Size([4, 4])\n",
      "tensor([[1.8360, 1.1109, 1.5572, 1.0128],\n",
      "        [1.4131, 0.9963, 1.3222, 0.7338],\n",
      "        [2.6882, 1.4356, 2.5639, 1.7382],\n",
      "        [1.4894, 1.1636, 1.7204, 0.6366]])\n"
     ]
    }
   ],
   "source": [
    "# Set manual seed\n",
    "RANDOM_SEED = 32\n",
    "\n",
    "# Create two random tensors\n",
    "torch.manual_seed(RANDOM_SEED)\n",
    "tensor_A = torch.rand(4, 5)\n",
    "torch.manual_seed(RANDOM_SEED)\n",
    "tensor_B = torch.rand(5, 4)\n",
    "# Matrix multiply tensors\n",
    "tensor_AB = torch.matmul(tensor_A, tensor_B)\n",
    "\n",
    "print(tensor_AB.shape)\n",
    "print(tensor_AB)\n"
   ]
  },
  {
   "cell_type": "markdown",
   "metadata": {
    "id": "ezY6ks9Cis37"
   },
   "source": [
    "### 5. Speaking of random seeds, we saw how to set it with `torch.manual_seed()` but is there a GPU equivalent? (hint: you'll need to look into the documentation for `torch.cuda` for this one)\n",
    "  * If there is, set the GPU random seed to `1234`."
   ]
  },
  {
   "cell_type": "code",
   "execution_count": 5,
   "metadata": {
    "id": "_LKWcfSTjp00"
   },
   "outputs": [],
   "source": [
    "# Set random seed on the GPU\n"
   ]
  },
  {
   "cell_type": "markdown",
   "metadata": {
    "id": "Ir9qSaj6it4n"
   },
   "source": [
    "\n",
    "### 6. Create two random tensors of shape `(2, 3)` and send them both to the GPU (you'll need access to a GPU for this). Set `torch.manual_seed(1234)` when creating the tensors (this doesn't have to be the GPU random seed). The output should be something like:\n",
    "\n",
    "```\n",
    "Device: cuda\n",
    "(tensor([[0.0290, 0.4019, 0.2598],\n",
    "         [0.3666, 0.0583, 0.7006]], device='cuda:0'),\n",
    " tensor([[0.0518, 0.4681, 0.6738],\n",
    "         [0.3315, 0.7837, 0.5631]], device='cuda:0'))\n",
    "```"
   ]
  },
  {
   "cell_type": "code",
   "execution_count": 6,
   "metadata": {
    "id": "azXExiFZj5nm"
   },
   "outputs": [],
   "source": [
    "# Set random seed\n",
    "\n",
    "\n",
    "# Check for access to GPU\n",
    "\n",
    "# Create two random tensors on GPU\n"
   ]
  },
  {
   "cell_type": "markdown",
   "metadata": {
    "id": "5TlAxeiSiu1y"
   },
   "source": [
    "\n",
    "### 7. Perform a matrix multiplication on the tensors you created in 6 (again, you may have to adjust the shapes of one of the tensors).\n",
    "\n",
    "The output should look like:\n",
    "```\n",
    "(tensor([[0.3647, 0.4709],\n",
    "         [0.5184, 0.5617]], device='cuda:0'), torch.Size([2, 2]))\n",
    "```"
   ]
  },
  {
   "cell_type": "code",
   "execution_count": 7,
   "metadata": {
    "id": "fAeG7ox0lHEO"
   },
   "outputs": [],
   "source": [
    "# Perform matmul on tensor_A and tensor_B\n"
   ]
  },
  {
   "cell_type": "markdown",
   "metadata": {
    "id": "G7qfa5CSivwg"
   },
   "source": [
    "### 8. Find the maximum and minimum values of the output of 7."
   ]
  },
  {
   "cell_type": "code",
   "execution_count": 17,
   "metadata": {
    "id": "Fu8_3mZpllOd"
   },
   "outputs": [
    {
     "name": "stdout",
     "output_type": "stream",
     "text": [
      "tensor(2.6882)\n",
      "tensor(0.6366)\n"
     ]
    }
   ],
   "source": [
    "# Find max\n",
    "print(torch.max(tensor_AB))\n",
    "# Find min\n",
    "print(torch.min(tensor_AB))\n"
   ]
  },
  {
   "cell_type": "markdown",
   "metadata": {
    "id": "wrTj5FgNiw47"
   },
   "source": [
    "### 9. Find the maximum and minimum index values of the output of 7."
   ]
  },
  {
   "cell_type": "code",
   "execution_count": 19,
   "metadata": {
    "id": "CCEKt4K2lsfQ"
   },
   "outputs": [
    {
     "name": "stdout",
     "output_type": "stream",
     "text": [
      "tensor(8)\n",
      "tensor(15)\n"
     ]
    }
   ],
   "source": [
    "# Find arg max\n",
    "print(torch.argmax(tensor_AB))\n",
    "\n",
    "# Find arg min\n",
    "print(torch.argmin(tensor_AB))\n"
   ]
  },
  {
   "cell_type": "markdown",
   "metadata": {
    "id": "hmeybz4uixy7"
   },
   "source": [
    "\n",
    "### 10. Make a random tensor with shape `(1, 1, 1, 10)` and then create a new tensor with all the `1` dimensions removed to be left with a tensor of shape `(10)`. Set the seed to `7` when you create it and print out the first tensor and it's shape as well as the second tensor and it's shape.\n",
    "\n",
    "The output should look like:\n",
    "\n",
    "```\n",
    "tensor([[[[0.5349, 0.1988, 0.6592, 0.6569, 0.2328, 0.4251, 0.2071, 0.6297,\n",
    "           0.3653, 0.8513]]]]) torch.Size([1, 1, 1, 10])\n",
    "tensor([0.5349, 0.1988, 0.6592, 0.6569, 0.2328, 0.4251, 0.2071, 0.6297, 0.3653,\n",
    "        0.8513]) torch.Size([10])\n",
    "```"
   ]
  },
  {
   "cell_type": "code",
   "execution_count": 23,
   "metadata": {
    "id": "TQ9zbRzVl1jV"
   },
   "outputs": [
    {
     "name": "stdout",
     "output_type": "stream",
     "text": [
      "torch.Size([1, 1, 1, 10]) \n",
      " tensor([[[[0.5349, 0.1988, 0.6592, 0.6569, 0.2328, 0.4251, 0.2071, 0.6297,\n",
      "           0.3653, 0.8513]]]])\n",
      "\n",
      "torch.Size([10]) \n",
      " tensor([0.5349, 0.1988, 0.6592, 0.6569, 0.2328, 0.4251, 0.2071, 0.6297, 0.3653,\n",
      "        0.8513])\n"
     ]
    }
   ],
   "source": [
    "# Set seed\n",
    "RANDOM_SEED = 7\n",
    "\n",
    "# Create random tensor\n",
    "torch.manual_seed(RANDOM_SEED)\n",
    "tensor_A = torch.rand(1, 1, 1, 10)\n",
    "\n",
    "# Remove single dimensions\n",
    "tensor_B = torch.squeeze(tensor_A)\n",
    "\n",
    "# Print out tensors and their shapes\n",
    "print(tensor_A.shape, '\\n', tensor_A)\n",
    "print()\n",
    "print(tensor_B.shape, '\\n', tensor_B)\n"
   ]
  },
  {
   "cell_type": "code",
   "execution_count": null,
   "metadata": {},
   "outputs": [],
   "source": []
  }
 ],
 "metadata": {
  "accelerator": "GPU",
  "colab": {
   "collapsed_sections": [],
   "name": "00_pytorch_fundamentals_exercises.ipynb",
   "provenance": []
  },
  "kernelspec": {
   "display_name": "Python 3 (ipykernel)",
   "language": "python",
   "name": "python3"
  },
  "language_info": {
   "codemirror_mode": {
    "name": "ipython",
    "version": 3
   },
   "file_extension": ".py",
   "mimetype": "text/x-python",
   "name": "python",
   "nbconvert_exporter": "python",
   "pygments_lexer": "ipython3",
   "version": "3.8.10"
  }
 },
 "nbformat": 4,
 "nbformat_minor": 4
}
